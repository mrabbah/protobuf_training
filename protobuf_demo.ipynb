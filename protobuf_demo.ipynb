{
 "cells": [
  {
   "cell_type": "markdown",
   "metadata": {},
   "source": [
    "# Protocol Buffer Basics: Python\n",
    "This tutorial provides a basic Python programmer's introduction to working with protocol buffers. By walking through creating a simple example application, it shows you how to:\n",
    "* Define message formats in a `.proto` file.\n",
    "* Use the protocol buffer compiler.\n",
    "* Use the Python protocol buffer API to write and read messages.\n",
    "\n",
    "## Defining Your Protocol Format\n",
    "First create a `.proto` file name it : `addressbook.proto`\n",
    "\n",
    "```sh\n",
    "nano addressbook.proto\n",
    "```\n",
    "`\n",
    "write the bellow message structure into the file:\n",
    "\n",
    "syntax = \"proto2\";\n",
    "\n",
    "package tutorial;\n",
    "\n",
    "message Person {\n",
    "  required string name = 1;\n",
    "  required int32 id = 2;\n",
    "  optional string email = 3;\n",
    "\n",
    "  enum PhoneType {\n",
    "    MOBILE = 0;\n",
    "    HOME = 1;\n",
    "    WORK = 2;\n",
    "  }\n",
    "\n",
    "  message PhoneNumber {\n",
    "    required string number = 1;\n",
    "    optional PhoneType type = 2 [default = HOME];\n",
    "  }\n",
    "\n",
    "  repeated PhoneNumber phones = 4;\n",
    "}\n",
    "\n",
    "message AddressBook {\n",
    "  repeated Person people = 1;\n",
    "}\n",
    "`\n",
    "\n",
    "Save the file, the `.proto` file starts with a package declaration, which helps to prevent naming conflicts between different projects. In Python, packages are normally determined by directory structure, so the package you define in your `.proto` file will have no effect on the generated code. However, you should still declare one to avoid name collisions in the Protocol Buffers name space as well as in non-Python languages.\n",
    "\n",
    "Next, you have your message definitions. A message is just an aggregate containing a set of typed fields. Many standard simple data types are available as field types, including `bool`, `int32`, `float`, `double`, and `string`. You can also add further structure to your messages by using other message types as field types – in the above example the Person message contains PhoneNumber messages, while the AddressBook message contains Person messages. You can even define message types nested inside other messages – as you can see, the PhoneNumber type is defined inside Person. You can also define enum types if you want one of your fields to have one of a predefined list of values – here you want to specify that a phone number can be one of MOBILE, HOME, or WORK.\n",
    "\n",
    "The \" = 1\", \" = 2\" markers on each element identify the unique \"tag\" that field uses in the binary encoding. Each field must be annotated with one of the following modifiers:\n",
    "* `required`: a value for the field must be provided, otherwise the message will be considered \"uninitialized\". Serializing an uninitialized message will raise an exception. Parsing an uninitialized message will fail. Other than this, a required field behaves exactly like an optional field.\n",
    "* `optional`: the field may or may not be set. If an optional field value isn't set, a default value is used. For simple types, you can specify your own default value, as we've done for the phone number type in the example. Otherwise, a system default is used: zero for numeric types, the empty string for strings, false for bools. For embedded messages, the default value is always the \"default instance\" or \"prototype\" of the message, which has none of its fields set. Calling the accessor to get the value of an optional (or required) field which has not been explicitly set always returns that field's default value.\n",
    "* `repeated`: the field may be repeated any number of times (including zero). The order of the repeated values will be preserved in the protocol buffer. Think of repeated fields as dynamically sized arrays.\n",
    "\n",
    "## Compiling Your Protocol Buffers\n",
    "\n",
    "First of all you must have Protobuf installed in your computer if not run :\n",
    "```sh\n",
    "sudo apt-get install protobuf-compiler\n",
    "sudo pip3 install --upgrade protobuf\n",
    "```\n",
    "after that you can compile your file:\n",
    "```sh\n",
    "SRC_DIR=/home/sanji/projets/protobuf_training/protobufdemo\n",
    "DST_DIR=/home/sanji/projets/protobuf_training/protobufdemo\n",
    "protoc -I=$SRC_DIR --python_out=$DST_DIR $SRC_DIR/addressbook.proto\n",
    "```\n",
    "A file named **addressbook_pb2.py** will be created, in my case the `addressbook.proto` file and `addressbook_pb2.py` are in a subdirectory named `protobufdemo`, we put also in this subdirecotry a file named `__init__.py` so lets use the generated `Person` class"
   ]
  },
  {
   "cell_type": "markdown",
   "metadata": {},
   "source": [
    "## Use the Python protocol buffer API to write and read messages"
   ]
  },
  {
   "cell_type": "code",
   "execution_count": 1,
   "metadata": {},
   "outputs": [],
   "source": [
    "from protobufdemo import addressbook_pb2\n",
    "person = addressbook_pb2.Person()\n",
    "person.id = 1234\n",
    "person.name = \"RABBAH Mahmoud\"\n",
    "person.email = \"mrabbah@gmail.com\"\n",
    "phone = person.phones.add()\n",
    "phone.number = \"555-4321\"\n",
    "phone.type = addressbook_pb2.Person.HOME"
   ]
  },
  {
   "cell_type": "code",
   "execution_count": 3,
   "metadata": {},
   "outputs": [
    {
     "name": "stdout",
     "output_type": "stream",
     "text": [
      "name: \"RABBAH Mahmoud\"\n",
      "id: 1234\n",
      "email: \"mrabbah@gmail.com\"\n",
      "phones {\n",
      "  number: \"555-4321\"\n",
      "  type: HOME\n",
      "}\n",
      "\n"
     ]
    }
   ],
   "source": [
    "print(person)"
   ]
  },
  {
   "cell_type": "code",
   "execution_count": 5,
   "metadata": {},
   "outputs": [
    {
     "name": "stdout",
     "output_type": "stream",
     "text": [
      "b'\\n\\x0eRABBAH Mahmoud\\x10\\xd2\\t\\x1a\\x11mrabbah@gmail.com\"\\x0c\\n\\x08555-4321\\x10\\x01'\n"
     ]
    }
   ],
   "source": [
    "# Parsing and Serialization\n",
    "s_serialized_p = person.SerializeToString()\n",
    "print(s_serialized_p)"
   ]
  },
  {
   "cell_type": "code",
   "execution_count": 6,
   "metadata": {},
   "outputs": [
    {
     "name": "stdout",
     "output_type": "stream",
     "text": [
      "name: \"RABBAH Mahmoud\"\n",
      "id: 1234\n",
      "email: \"mrabbah@gmail.com\"\n",
      "phones {\n",
      "  number: \"555-4321\"\n",
      "  type: HOME\n",
      "}\n",
      "\n"
     ]
    }
   ],
   "source": [
    "person_2 = addressbook_pb2.Person()\n",
    "person_2.ParseFromString(s_serialized_p)\n",
    "print(person_2)"
   ]
  },
  {
   "cell_type": "code",
   "execution_count": 7,
   "metadata": {},
   "outputs": [],
   "source": [
    "# Write to a file serialized message\n",
    "f = open('protobufdemo/data.raw', \"wb\")\n",
    "f.write(person_2.SerializeToString())\n",
    "f.close()"
   ]
  },
  {
   "cell_type": "code",
   "execution_count": 8,
   "metadata": {},
   "outputs": [
    {
     "name": "stdout",
     "output_type": "stream",
     "text": [
      "name: \"RABBAH Mahmoud\"\n",
      "id: 1234\n",
      "email: \"mrabbah@gmail.com\"\n",
      "phones {\n",
      "  number: \"555-4321\"\n",
      "  type: HOME\n",
      "}\n",
      "\n"
     ]
    }
   ],
   "source": [
    "# Read from a file serialized message\n",
    "f2 = open('protobufdemo/data.raw', \"rb\")\n",
    "person_3 = addressbook_pb2.Person()\n",
    "person_3.ParseFromString(f2.read())\n",
    "f2.close()\n",
    "print(person_3)"
   ]
  },
  {
   "cell_type": "code",
   "execution_count": null,
   "metadata": {},
   "outputs": [],
   "source": []
  }
 ],
 "metadata": {
  "kernelspec": {
   "display_name": "Python 3",
   "language": "python",
   "name": "python3"
  },
  "language_info": {
   "codemirror_mode": {
    "name": "ipython",
    "version": 2
   },
   "file_extension": ".py",
   "mimetype": "text/x-python",
   "name": "python",
   "nbconvert_exporter": "python",
   "pygments_lexer": "ipython2",
   "version": "2.7.12"
  }
 },
 "nbformat": 4,
 "nbformat_minor": 2
}
